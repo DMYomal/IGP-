{
 "cells": [
  {
   "cell_type": "code",
   "execution_count": null,
   "metadata": {},
   "outputs": [],
   "source": [
    "import pandas as pd\n",
    "import plotly.express as px"
   ]
  },
  {
   "cell_type": "code",
   "execution_count": null,
   "metadata": {},
   "outputs": [],
   "source": [
    "import dash\n",
    "from dash import dcc, html, callback, Output, Input\n",
    "import plotly.express as px\n",
    "import dash_bootstrap_components as dbc\n"
   ]
  },
  {
   "cell_type": "code",
   "execution_count": null,
   "metadata": {},
   "outputs": [],
   "source": [
    "solar_df = pd.read_csv('../Data/Solar Data.csv',delimiter=',')\n",
    "# Convert 'Date' column to datetime type\n",
    "solar_df['Date'] = pd.to_datetime(solar_df['Time'], format='%m/%d/%Y %H:%M')\n",
    "# Extract year from 'Date' column\n",
    "solar_df['Year'] = solar_df['Date'].dt.year\n",
    "# Extract year from 'Month' column\n",
    "solar_df['Month'] = solar_df['Date'].dt.strftime('%b')\n",
    "# Extract year and month, and format month as three-letter abbreviation\n",
    "solar_df['Year_Month'] = solar_df['Date'].dt.strftime('%b-%Y')\n",
    "solar_df.head()\n",
    "solar_line = px.line (solar_df,x='Time',y='gen',title = f'Solar Generation')\n",
    "solar_line"
   ]
  },
  {
   "cell_type": "code",
   "execution_count": null,
   "metadata": {},
   "outputs": [],
   "source": [
    "dash.register_page(__name__, path='/') # '/' is home page"
   ]
  },
  {
   "cell_type": "code",
   "execution_count": null,
   "metadata": {},
   "outputs": [],
   "source": [
    "layout = html.Div([\n",
    "    html.H1(children = 'BRISTOL COMMUNITY CENTER',\n",
    "            style = {\n",
    "                'textAlign' : 'center',\n",
    "                'color' : '#1d4e89'\n",
    "            }\n",
    "            ),\n",
    "    html.Div('Energy Use and Efficiency',\n",
    "             style = {\n",
    "                'textAlign' : 'center',\n",
    "                'color' : '#00b3ca'\n",
    "            }\n",
    "            ),\n",
    "    html.Hr(),\n",
    "    \n",
    "\n",
    "    dcc.Graph(id='solar_gen1', figure = lineChart ),\n",
    "\n",
    "    dcc.Dropdown(id ='year-dropdown',\n",
    "                 options=[{'label': i, 'value':i} for i in summary_df['Year'].unique()],value='2023'),\n",
    "                 \n",
    "    dcc.Graph(id='solar_gen')\n",
    "])"
   ]
  },
  {
   "cell_type": "code",
   "execution_count": null,
   "metadata": {},
   "outputs": [],
   "source": [
    "#Set up the callback function\n",
    "@app.callback(\n",
    "    Output(component_id = 'solar_gen',component_property = 'figure'),\n",
    "    Input(component_id = 'year-dropdown', component_property = 'value')\n",
    ")\n",
    "\n",
    "def update_graph1(selected_year):\n",
    "    filtered_gen = solar_df[solar_df['Year'] == selected_year]\n",
    "    line_fig1 = px.line (filtered_gen,x='Time',y='gen',title = f'Solar Generation')\n",
    "    \n",
    "    return line_fig1"
   ]
  }
 ],
 "metadata": {
  "kernelspec": {
   "display_name": "Python 3",
   "language": "python",
   "name": "python3"
  },
  "language_info": {
   "codemirror_mode": {
    "name": "ipython",
    "version": 3
   },
   "file_extension": ".py",
   "mimetype": "text/x-python",
   "name": "python",
   "nbconvert_exporter": "python",
   "pygments_lexer": "ipython3",
   "version": "3.11.1"
  },
  "orig_nbformat": 4
 },
 "nbformat": 4,
 "nbformat_minor": 2
}
